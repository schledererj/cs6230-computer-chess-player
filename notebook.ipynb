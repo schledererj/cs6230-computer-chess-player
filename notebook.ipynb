{
 "cells": [
  {
   "cell_type": "code",
   "execution_count": 3,
   "metadata": {},
   "outputs": [
    {
     "data": {
      "text/plain": [
       "{63: Piece.from_symbol('r'),\n",
       " 62: Piece.from_symbol('n'),\n",
       " 61: Piece.from_symbol('b'),\n",
       " 60: Piece.from_symbol('k'),\n",
       " 59: Piece.from_symbol('q'),\n",
       " 58: Piece.from_symbol('b'),\n",
       " 57: Piece.from_symbol('n'),\n",
       " 56: Piece.from_symbol('r'),\n",
       " 55: Piece.from_symbol('p'),\n",
       " 54: Piece.from_symbol('p'),\n",
       " 53: Piece.from_symbol('p'),\n",
       " 52: Piece.from_symbol('p'),\n",
       " 51: Piece.from_symbol('p'),\n",
       " 50: Piece.from_symbol('p'),\n",
       " 49: Piece.from_symbol('p'),\n",
       " 48: Piece.from_symbol('p'),\n",
       " 15: Piece.from_symbol('P'),\n",
       " 14: Piece.from_symbol('P'),\n",
       " 13: Piece.from_symbol('P'),\n",
       " 12: Piece.from_symbol('P'),\n",
       " 11: Piece.from_symbol('P'),\n",
       " 10: Piece.from_symbol('P'),\n",
       " 9: Piece.from_symbol('P'),\n",
       " 8: Piece.from_symbol('P'),\n",
       " 7: Piece.from_symbol('R'),\n",
       " 6: Piece.from_symbol('N'),\n",
       " 5: Piece.from_symbol('B'),\n",
       " 4: Piece.from_symbol('K'),\n",
       " 3: Piece.from_symbol('Q'),\n",
       " 2: Piece.from_symbol('B'),\n",
       " 1: Piece.from_symbol('N'),\n",
       " 0: Piece.from_symbol('R')}"
      ]
     },
     "execution_count": 3,
     "metadata": {},
     "output_type": "execute_result"
    }
   ],
   "source": [
    "import chess\n",
    "\n",
    "board = chess.Board()\n",
    "board.piece_map()"
   ]
  },
  {
   "cell_type": "code",
   "execution_count": 4,
   "metadata": {},
   "outputs": [
    {
     "data": {
      "image/svg+xml": "<svg xmlns=\"http://www.w3.org/2000/svg\" xmlns:xlink=\"http://www.w3.org/1999/xlink\" version=\"1.2\" baseProfile=\"tiny\" viewBox=\"0 0 45 45\" width=\"45\" height=\"45\"><g id=\"black-rook\" class=\"black rook\" fill=\"#000\" fill-rule=\"evenodd\" stroke=\"#000\" stroke-width=\"1.5\" stroke-linecap=\"round\" stroke-linejoin=\"round\"><path d=\"M9 39h27v-3H9v3zM12.5 32l1.5-2.5h17l1.5 2.5h-20zM12 36v-4h21v4H12z\" stroke-linecap=\"butt\" /><path d=\"M14 29.5v-13h17v13H14z\" stroke-linecap=\"butt\" stroke-linejoin=\"miter\" /><path d=\"M14 16.5L11 14h23l-3 2.5H14zM11 14V9h4v2h5V9h5v2h5V9h4v5H11z\" stroke-linecap=\"butt\" /><path d=\"M12 35.5h21M13 31.5h19M14 29.5h17M14 16.5h17M11 14h23\" fill=\"none\" stroke=\"#fff\" stroke-width=\"1\" stroke-linejoin=\"miter\" /></g></svg>",
      "text/plain": [
       "Piece.from_symbol('r')"
      ]
     },
     "execution_count": 4,
     "metadata": {},
     "output_type": "execute_result"
    }
   ],
   "source": [
    "board.piece_at(63)"
   ]
  }
 ],
 "metadata": {
  "interpreter": {
   "hash": "37de6815b5b28632a901a28f2555f2ccd8c9db6a0efabf8bd3113b5f4a49f8fd"
  },
  "kernelspec": {
   "display_name": "Python 3.8.9 64-bit ('.env': venv)",
   "name": "python3"
  },
  "language_info": {
   "codemirror_mode": {
    "name": "ipython",
    "version": 3
   },
   "file_extension": ".py",
   "mimetype": "text/x-python",
   "name": "python",
   "nbconvert_exporter": "python",
   "pygments_lexer": "ipython3",
   "version": "3.8.9"
  },
  "orig_nbformat": 4
 },
 "nbformat": 4,
 "nbformat_minor": 2
}
